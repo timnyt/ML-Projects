{
 "cells": [
  {
   "cell_type": "markdown",
   "metadata": {
    "id": "ekczNcQxUpzT"
   },
   "source": [
    "<p align=\"center\"><img width=\"50%\" src=\"https://aimodelsharecontent.s3.amazonaws.com/aimodshare_banner.jpg\" /></p>\n",
    "\n",
    "\n",
    "---"
   ]
  },
  {
   "cell_type": "markdown",
   "metadata": {
    "id": "JXxGTgJz152A"
   },
   "source": [
    "## Model Submission Guide: World Happiness Classification Competition\n",
    "Let's share our models to a centralized leaderboard, so that we can collaborate and learn from the model experimentation process...\n",
    "\n",
    "**Instructions:**\n",
    "1.   Get data in and set up X_train / X_test / y_train\n",
    "2.   Preprocess data using Sklearn Column Transformer/ Write and Save Preprocessor function\n",
    "3. Fit model on preprocessed data and save preprocessor function and model \n",
    "4. Generate predictions from X_test data and submit model to competition\n",
    "5. Repeat submission process to improve place on leaderboard\n",
    "\n"
   ]
  },
  {
   "cell_type": "markdown",
   "metadata": {
    "id": "5gSrVJwp3E9H"
   },
   "source": [
    "## 1. Get data in and set up X_train, X_test, y_train objects"
   ]
  },
  {
   "cell_type": "code",
   "execution_count": 4,
   "metadata": {
    "id": "PLTIaMB3ChSW",
    "scrolled": true
   },
   "outputs": [
    {
     "name": "stdout",
     "output_type": "stream",
     "text": [
      "Requirement already satisfied: aimodelshare in /Users/timothyng/opt/anaconda3/lib/python3.9/site-packages (0.0.178)\n",
      "Requirement already satisfied: botocore==1.24.20 in /Users/timothyng/opt/anaconda3/lib/python3.9/site-packages (from aimodelshare) (1.24.20)\n",
      "Requirement already satisfied: scikit-learn==0.24.2 in /Users/timothyng/opt/anaconda3/lib/python3.9/site-packages (from aimodelshare) (0.24.2)\n",
      "Requirement already satisfied: Pympler==0.9 in /Users/timothyng/opt/anaconda3/lib/python3.9/site-packages (from aimodelshare) (0.9)\n",
      "Requirement already satisfied: psutil>=5.9.1 in /Users/timothyng/opt/anaconda3/lib/python3.9/site-packages (from aimodelshare) (5.9.4)\n",
      "Requirement already satisfied: tf2onnx in /Users/timothyng/opt/anaconda3/lib/python3.9/site-packages (from aimodelshare) (1.13.0)\n",
      "Requirement already satisfied: regex in /Users/timothyng/opt/anaconda3/lib/python3.9/site-packages (from aimodelshare) (2022.10.31)\n",
      "Requirement already satisfied: boto3==1.21.20 in /Users/timothyng/opt/anaconda3/lib/python3.9/site-packages (from aimodelshare) (1.21.20)\n",
      "Requirement already satisfied: tensorflow==2.9.2 in /Users/timothyng/opt/anaconda3/lib/python3.9/site-packages (from aimodelshare) (2.9.2)\n",
      "Requirement already satisfied: astunparse==1.6.3 in /Users/timothyng/opt/anaconda3/lib/python3.9/site-packages (from aimodelshare) (1.6.3)\n",
      "Requirement already satisfied: keras2onnx>=1.7.0 in /Users/timothyng/opt/anaconda3/lib/python3.9/site-packages (from aimodelshare) (1.7.0)\n",
      "Requirement already satisfied: shortuuid>=1.0.8 in /Users/timothyng/opt/anaconda3/lib/python3.9/site-packages (from aimodelshare) (1.0.11)\n",
      "Requirement already satisfied: pathlib>=1.0.1 in /Users/timothyng/opt/anaconda3/lib/python3.9/site-packages (from aimodelshare) (1.0.1)\n",
      "Requirement already satisfied: importlib-resources==5.10.0 in /Users/timothyng/opt/anaconda3/lib/python3.9/site-packages (from aimodelshare) (5.10.0)\n",
      "Requirement already satisfied: onnxconverter-common>=1.7.0 in /Users/timothyng/opt/anaconda3/lib/python3.9/site-packages (from aimodelshare) (1.13.0)\n",
      "Requirement already satisfied: onnxruntime>=1.7.0 in /Users/timothyng/opt/anaconda3/lib/python3.9/site-packages (from aimodelshare) (1.13.1)\n",
      "Requirement already satisfied: onnxmltools>=1.6.1 in /Users/timothyng/opt/anaconda3/lib/python3.9/site-packages (from aimodelshare) (1.11.1)\n",
      "Requirement already satisfied: wget==3.2 in /Users/timothyng/opt/anaconda3/lib/python3.9/site-packages (from aimodelshare) (3.2)\n",
      "Requirement already satisfied: torch>=1.8.1 in /Users/timothyng/opt/anaconda3/lib/python3.9/site-packages (from aimodelshare) (1.13.1)\n",
      "Requirement already satisfied: skl2onnx>=1.8.0 in /Users/timothyng/opt/anaconda3/lib/python3.9/site-packages (from aimodelshare) (1.13)\n",
      "Requirement already satisfied: pydot==1.3.0 in /Users/timothyng/opt/anaconda3/lib/python3.9/site-packages (from aimodelshare) (1.3.0)\n",
      "Requirement already satisfied: PyJWT>=2.4.0 in /Users/timothyng/opt/anaconda3/lib/python3.9/site-packages (from aimodelshare) (2.4.0)\n",
      "Requirement already satisfied: docker==5.0.0 in /Users/timothyng/opt/anaconda3/lib/python3.9/site-packages (from aimodelshare) (5.0.0)\n",
      "Requirement already satisfied: onnx==1.12.0 in /Users/timothyng/opt/anaconda3/lib/python3.9/site-packages (from aimodelshare) (1.12.0)\n",
      "Requirement already satisfied: seaborn>=0.11.2 in /Users/timothyng/opt/anaconda3/lib/python3.9/site-packages (from aimodelshare) (0.11.2)\n",
      "Requirement already satisfied: six<2.0,>=1.6.1 in /Users/timothyng/opt/anaconda3/lib/python3.9/site-packages (from astunparse==1.6.3->aimodelshare) (1.16.0)\n",
      "Requirement already satisfied: wheel<1.0,>=0.23.0 in /Users/timothyng/opt/anaconda3/lib/python3.9/site-packages (from astunparse==1.6.3->aimodelshare) (0.37.1)\n",
      "Requirement already satisfied: s3transfer<0.6.0,>=0.5.0 in /Users/timothyng/opt/anaconda3/lib/python3.9/site-packages (from boto3==1.21.20->aimodelshare) (0.5.2)\n",
      "Requirement already satisfied: jmespath<1.0.0,>=0.7.1 in /Users/timothyng/opt/anaconda3/lib/python3.9/site-packages (from boto3==1.21.20->aimodelshare) (0.10.0)\n",
      "Requirement already satisfied: urllib3<1.27,>=1.25.4 in /Users/timothyng/opt/anaconda3/lib/python3.9/site-packages (from botocore==1.24.20->aimodelshare) (1.26.11)\n",
      "Requirement already satisfied: python-dateutil<3.0.0,>=2.1 in /Users/timothyng/opt/anaconda3/lib/python3.9/site-packages (from botocore==1.24.20->aimodelshare) (2.8.2)\n",
      "Requirement already satisfied: websocket-client>=0.32.0 in /Users/timothyng/opt/anaconda3/lib/python3.9/site-packages (from docker==5.0.0->aimodelshare) (0.58.0)\n",
      "Requirement already satisfied: requests!=2.18.0,>=2.14.2 in /Users/timothyng/opt/anaconda3/lib/python3.9/site-packages (from docker==5.0.0->aimodelshare) (2.28.1)\n",
      "Requirement already satisfied: zipp>=3.1.0 in /Users/timothyng/opt/anaconda3/lib/python3.9/site-packages (from importlib-resources==5.10.0->aimodelshare) (3.8.0)\n",
      "Requirement already satisfied: typing-extensions>=3.6.2.1 in /Users/timothyng/opt/anaconda3/lib/python3.9/site-packages (from onnx==1.12.0->aimodelshare) (4.3.0)\n",
      "Requirement already satisfied: protobuf<=3.20.1,>=3.12.2 in /Users/timothyng/opt/anaconda3/lib/python3.9/site-packages (from onnx==1.12.0->aimodelshare) (3.19.6)\n",
      "Requirement already satisfied: numpy>=1.16.6 in /Users/timothyng/opt/anaconda3/lib/python3.9/site-packages (from onnx==1.12.0->aimodelshare) (1.23.5)\n",
      "Requirement already satisfied: pyparsing>=2.1.4 in /Users/timothyng/opt/anaconda3/lib/python3.9/site-packages (from pydot==1.3.0->aimodelshare) (3.0.9)\n",
      "Requirement already satisfied: threadpoolctl>=2.0.0 in /Users/timothyng/opt/anaconda3/lib/python3.9/site-packages (from scikit-learn==0.24.2->aimodelshare) (2.2.0)\n",
      "Requirement already satisfied: joblib>=0.11 in /Users/timothyng/opt/anaconda3/lib/python3.9/site-packages (from scikit-learn==0.24.2->aimodelshare) (1.1.0)\n",
      "Requirement already satisfied: scipy>=0.19.1 in /Users/timothyng/opt/anaconda3/lib/python3.9/site-packages (from scikit-learn==0.24.2->aimodelshare) (1.9.1)\n",
      "Requirement already satisfied: tensorflow-estimator<2.10.0,>=2.9.0rc0 in /Users/timothyng/opt/anaconda3/lib/python3.9/site-packages (from tensorflow==2.9.2->aimodelshare) (2.9.0)\n",
      "Requirement already satisfied: absl-py>=1.0.0 in /Users/timothyng/opt/anaconda3/lib/python3.9/site-packages (from tensorflow==2.9.2->aimodelshare) (1.3.0)\n",
      "Requirement already satisfied: keras-preprocessing>=1.1.1 in /Users/timothyng/opt/anaconda3/lib/python3.9/site-packages (from tensorflow==2.9.2->aimodelshare) (1.1.2)\n",
      "Requirement already satisfied: keras<2.10.0,>=2.9.0rc0 in /Users/timothyng/opt/anaconda3/lib/python3.9/site-packages (from tensorflow==2.9.2->aimodelshare) (2.9.0)\n",
      "Requirement already satisfied: libclang>=13.0.0 in /Users/timothyng/opt/anaconda3/lib/python3.9/site-packages (from tensorflow==2.9.2->aimodelshare) (14.0.6)\n",
      "Requirement already satisfied: packaging in /Users/timothyng/opt/anaconda3/lib/python3.9/site-packages (from tensorflow==2.9.2->aimodelshare) (21.3)\n",
      "Requirement already satisfied: wrapt>=1.11.0 in /Users/timothyng/opt/anaconda3/lib/python3.9/site-packages (from tensorflow==2.9.2->aimodelshare) (1.14.1)\n",
      "Requirement already satisfied: h5py>=2.9.0 in /Users/timothyng/opt/anaconda3/lib/python3.9/site-packages (from tensorflow==2.9.2->aimodelshare) (3.7.0)\n",
      "Requirement already satisfied: gast<=0.4.0,>=0.2.1 in /Users/timothyng/opt/anaconda3/lib/python3.9/site-packages (from tensorflow==2.9.2->aimodelshare) (0.4.0)\n",
      "Requirement already satisfied: grpcio<2.0,>=1.24.3 in /Users/timothyng/opt/anaconda3/lib/python3.9/site-packages (from tensorflow==2.9.2->aimodelshare) (1.51.1)\n",
      "Requirement already satisfied: flatbuffers<2,>=1.12 in /Users/timothyng/opt/anaconda3/lib/python3.9/site-packages (from tensorflow==2.9.2->aimodelshare) (1.12)\n",
      "Requirement already satisfied: termcolor>=1.1.0 in /Users/timothyng/opt/anaconda3/lib/python3.9/site-packages (from tensorflow==2.9.2->aimodelshare) (2.1.1)\n",
      "Requirement already satisfied: google-pasta>=0.1.1 in /Users/timothyng/opt/anaconda3/lib/python3.9/site-packages (from tensorflow==2.9.2->aimodelshare) (0.2.0)\n",
      "Requirement already satisfied: tensorflow-io-gcs-filesystem>=0.23.1 in /Users/timothyng/opt/anaconda3/lib/python3.9/site-packages (from tensorflow==2.9.2->aimodelshare) (0.28.0)\n",
      "Requirement already satisfied: tensorboard<2.10,>=2.9 in /Users/timothyng/opt/anaconda3/lib/python3.9/site-packages (from tensorflow==2.9.2->aimodelshare) (2.9.1)\n",
      "Requirement already satisfied: opt-einsum>=2.3.2 in /Users/timothyng/opt/anaconda3/lib/python3.9/site-packages (from tensorflow==2.9.2->aimodelshare) (3.3.0)\n",
      "Requirement already satisfied: setuptools in /Users/timothyng/opt/anaconda3/lib/python3.9/site-packages (from tensorflow==2.9.2->aimodelshare) (63.4.1)\n",
      "Requirement already satisfied: fire in /Users/timothyng/opt/anaconda3/lib/python3.9/site-packages (from keras2onnx>=1.7.0->aimodelshare) (0.5.0)\n",
      "Requirement already satisfied: coloredlogs in /Users/timothyng/opt/anaconda3/lib/python3.9/site-packages (from onnxruntime>=1.7.0->aimodelshare) (15.0.1)\n",
      "Requirement already satisfied: sympy in /Users/timothyng/opt/anaconda3/lib/python3.9/site-packages (from onnxruntime>=1.7.0->aimodelshare) (1.10.1)\n",
      "Requirement already satisfied: matplotlib>=2.2 in /Users/timothyng/opt/anaconda3/lib/python3.9/site-packages (from seaborn>=0.11.2->aimodelshare) (3.5.2)\n",
      "Requirement already satisfied: pandas>=0.23 in /Users/timothyng/opt/anaconda3/lib/python3.9/site-packages (from seaborn>=0.11.2->aimodelshare) (1.5.2)\n"
     ]
    },
    {
     "name": "stdout",
     "output_type": "stream",
     "text": [
      "Requirement already satisfied: cycler>=0.10 in /Users/timothyng/opt/anaconda3/lib/python3.9/site-packages (from matplotlib>=2.2->seaborn>=0.11.2->aimodelshare) (0.11.0)\n",
      "Requirement already satisfied: fonttools>=4.22.0 in /Users/timothyng/opt/anaconda3/lib/python3.9/site-packages (from matplotlib>=2.2->seaborn>=0.11.2->aimodelshare) (4.25.0)\n",
      "Requirement already satisfied: kiwisolver>=1.0.1 in /Users/timothyng/opt/anaconda3/lib/python3.9/site-packages (from matplotlib>=2.2->seaborn>=0.11.2->aimodelshare) (1.4.2)\n",
      "Requirement already satisfied: pillow>=6.2.0 in /Users/timothyng/opt/anaconda3/lib/python3.9/site-packages (from matplotlib>=2.2->seaborn>=0.11.2->aimodelshare) (9.2.0)\n",
      "Requirement already satisfied: pytz>=2020.1 in /Users/timothyng/opt/anaconda3/lib/python3.9/site-packages (from pandas>=0.23->seaborn>=0.11.2->aimodelshare) (2022.1)\n",
      "Requirement already satisfied: certifi>=2017.4.17 in /Users/timothyng/opt/anaconda3/lib/python3.9/site-packages (from requests!=2.18.0,>=2.14.2->docker==5.0.0->aimodelshare) (2022.9.24)\n",
      "Requirement already satisfied: idna<4,>=2.5 in /Users/timothyng/opt/anaconda3/lib/python3.9/site-packages (from requests!=2.18.0,>=2.14.2->docker==5.0.0->aimodelshare) (3.3)\n",
      "Requirement already satisfied: charset-normalizer<3,>=2 in /Users/timothyng/opt/anaconda3/lib/python3.9/site-packages (from requests!=2.18.0,>=2.14.2->docker==5.0.0->aimodelshare) (2.0.4)\n",
      "Requirement already satisfied: tensorboard-plugin-wit>=1.6.0 in /Users/timothyng/opt/anaconda3/lib/python3.9/site-packages (from tensorboard<2.10,>=2.9->tensorflow==2.9.2->aimodelshare) (1.8.1)\n",
      "Requirement already satisfied: werkzeug>=1.0.1 in /Users/timothyng/opt/anaconda3/lib/python3.9/site-packages (from tensorboard<2.10,>=2.9->tensorflow==2.9.2->aimodelshare) (2.0.3)\n",
      "Requirement already satisfied: tensorboard-data-server<0.7.0,>=0.6.0 in /Users/timothyng/opt/anaconda3/lib/python3.9/site-packages (from tensorboard<2.10,>=2.9->tensorflow==2.9.2->aimodelshare) (0.6.1)\n",
      "Requirement already satisfied: google-auth<3,>=1.6.3 in /Users/timothyng/opt/anaconda3/lib/python3.9/site-packages (from tensorboard<2.10,>=2.9->tensorflow==2.9.2->aimodelshare) (2.15.0)\n",
      "Requirement already satisfied: markdown>=2.6.8 in /Users/timothyng/opt/anaconda3/lib/python3.9/site-packages (from tensorboard<2.10,>=2.9->tensorflow==2.9.2->aimodelshare) (3.3.4)\n",
      "Requirement already satisfied: google-auth-oauthlib<0.5,>=0.4.1 in /Users/timothyng/opt/anaconda3/lib/python3.9/site-packages (from tensorboard<2.10,>=2.9->tensorflow==2.9.2->aimodelshare) (0.4.6)\n",
      "Requirement already satisfied: humanfriendly>=9.1 in /Users/timothyng/opt/anaconda3/lib/python3.9/site-packages (from coloredlogs->onnxruntime>=1.7.0->aimodelshare) (10.0)\n",
      "Requirement already satisfied: mpmath>=0.19 in /Users/timothyng/opt/anaconda3/lib/python3.9/site-packages (from sympy->onnxruntime>=1.7.0->aimodelshare) (1.2.1)\n",
      "Requirement already satisfied: cachetools<6.0,>=2.0.0 in /Users/timothyng/opt/anaconda3/lib/python3.9/site-packages (from google-auth<3,>=1.6.3->tensorboard<2.10,>=2.9->tensorflow==2.9.2->aimodelshare) (5.2.0)\n",
      "Requirement already satisfied: rsa<5,>=3.1.4 in /Users/timothyng/opt/anaconda3/lib/python3.9/site-packages (from google-auth<3,>=1.6.3->tensorboard<2.10,>=2.9->tensorflow==2.9.2->aimodelshare) (4.9)\n",
      "Requirement already satisfied: pyasn1-modules>=0.2.1 in /Users/timothyng/opt/anaconda3/lib/python3.9/site-packages (from google-auth<3,>=1.6.3->tensorboard<2.10,>=2.9->tensorflow==2.9.2->aimodelshare) (0.2.8)\n",
      "Requirement already satisfied: requests-oauthlib>=0.7.0 in /Users/timothyng/opt/anaconda3/lib/python3.9/site-packages (from google-auth-oauthlib<0.5,>=0.4.1->tensorboard<2.10,>=2.9->tensorflow==2.9.2->aimodelshare) (1.3.1)\n",
      "Requirement already satisfied: pyasn1<0.5.0,>=0.4.6 in /Users/timothyng/opt/anaconda3/lib/python3.9/site-packages (from pyasn1-modules>=0.2.1->google-auth<3,>=1.6.3->tensorboard<2.10,>=2.9->tensorflow==2.9.2->aimodelshare) (0.4.8)\n",
      "Requirement already satisfied: oauthlib>=3.0.0 in /Users/timothyng/opt/anaconda3/lib/python3.9/site-packages (from requests-oauthlib>=0.7.0->google-auth-oauthlib<0.5,>=0.4.1->tensorboard<2.10,>=2.9->tensorflow==2.9.2->aimodelshare) (3.2.2)\n"
     ]
    }
   ],
   "source": [
    "#install aimodelshare library\n",
    "! pip install aimodelshare --upgrade"
   ]
  },
  {
   "cell_type": "code",
   "execution_count": 5,
   "metadata": {
    "id": "l-YsXXXcUQ9G"
   },
   "outputs": [],
   "source": [
    "#Get competition data from course folder and unzip\n",
    "# importing the zipfile module\n",
    "from zipfile import ZipFile\n",
    "  \n",
    "# loading the temp.zip and creating a zip object\n",
    "with ZipFile(\"world_happiness_competition_data.zip\", 'r') as zObject:\n",
    "  \n",
    "    # Extracting all the members of the zip \n",
    "    # into a specific location.\n",
    "    zObject.extractall()"
   ]
  },
  {
   "cell_type": "code",
   "execution_count": 6,
   "metadata": {
    "colab": {
     "base_uri": "https://localhost:8080/",
     "height": 478
    },
    "id": "jT0qFCZFNzHq",
    "outputId": "af7992a5-3c3d-4307-825e-2ebb402581fd"
   },
   "outputs": [
    {
     "data": {
      "text/html": [
       "<div>\n",
       "<style scoped>\n",
       "    .dataframe tbody tr th:only-of-type {\n",
       "        vertical-align: middle;\n",
       "    }\n",
       "\n",
       "    .dataframe tbody tr th {\n",
       "        vertical-align: top;\n",
       "    }\n",
       "\n",
       "    .dataframe thead th {\n",
       "        text-align: right;\n",
       "    }\n",
       "</style>\n",
       "<table border=\"1\" class=\"dataframe\">\n",
       "  <thead>\n",
       "    <tr style=\"text-align: right;\">\n",
       "      <th></th>\n",
       "      <th>Country or region</th>\n",
       "      <th>GDP per capita</th>\n",
       "      <th>Social support</th>\n",
       "      <th>Healthy life expectancy</th>\n",
       "      <th>Freedom to make life choices</th>\n",
       "      <th>Generosity</th>\n",
       "      <th>Perceptions of corruption</th>\n",
       "      <th>name</th>\n",
       "      <th>region</th>\n",
       "      <th>sub-region</th>\n",
       "      <th>Terrorist_attacks</th>\n",
       "    </tr>\n",
       "  </thead>\n",
       "  <tbody>\n",
       "    <tr>\n",
       "      <th>0</th>\n",
       "      <td>Peru</td>\n",
       "      <td>0.960</td>\n",
       "      <td>1.274</td>\n",
       "      <td>0.854</td>\n",
       "      <td>0.455</td>\n",
       "      <td>0.083</td>\n",
       "      <td>0.027</td>\n",
       "      <td>Peru</td>\n",
       "      <td>Americas</td>\n",
       "      <td>Latin America and the Caribbean</td>\n",
       "      <td>18.000000</td>\n",
       "    </tr>\n",
       "    <tr>\n",
       "      <th>1</th>\n",
       "      <td>Nicaragua</td>\n",
       "      <td>0.694</td>\n",
       "      <td>1.325</td>\n",
       "      <td>0.835</td>\n",
       "      <td>0.435</td>\n",
       "      <td>0.200</td>\n",
       "      <td>0.127</td>\n",
       "      <td>Nicaragua</td>\n",
       "      <td>Americas</td>\n",
       "      <td>Latin America and the Caribbean</td>\n",
       "      <td>125.611111</td>\n",
       "    </tr>\n",
       "    <tr>\n",
       "      <th>2</th>\n",
       "      <td>Greece</td>\n",
       "      <td>1.181</td>\n",
       "      <td>1.156</td>\n",
       "      <td>0.999</td>\n",
       "      <td>0.067</td>\n",
       "      <td>0.000</td>\n",
       "      <td>0.034</td>\n",
       "      <td>Greece</td>\n",
       "      <td>Europe</td>\n",
       "      <td>Southern Europe</td>\n",
       "      <td>112.000000</td>\n",
       "    </tr>\n",
       "    <tr>\n",
       "      <th>3</th>\n",
       "      <td>Qatar</td>\n",
       "      <td>1.684</td>\n",
       "      <td>1.313</td>\n",
       "      <td>0.871</td>\n",
       "      <td>0.555</td>\n",
       "      <td>0.220</td>\n",
       "      <td>0.167</td>\n",
       "      <td>Qatar</td>\n",
       "      <td>Asia</td>\n",
       "      <td>Western Asia</td>\n",
       "      <td>57.333333</td>\n",
       "    </tr>\n",
       "    <tr>\n",
       "      <th>4</th>\n",
       "      <td>Uzbekistan</td>\n",
       "      <td>0.745</td>\n",
       "      <td>1.529</td>\n",
       "      <td>0.756</td>\n",
       "      <td>0.631</td>\n",
       "      <td>0.322</td>\n",
       "      <td>0.240</td>\n",
       "      <td>Uzbekistan</td>\n",
       "      <td>Asia</td>\n",
       "      <td>Central Asia</td>\n",
       "      <td>125.611111</td>\n",
       "    </tr>\n",
       "  </tbody>\n",
       "</table>\n",
       "</div>"
      ],
      "text/plain": [
       "  Country or region  GDP per capita  Social support  Healthy life expectancy  \\\n",
       "0              Peru           0.960           1.274                    0.854   \n",
       "1         Nicaragua           0.694           1.325                    0.835   \n",
       "2            Greece           1.181           1.156                    0.999   \n",
       "3             Qatar           1.684           1.313                    0.871   \n",
       "4        Uzbekistan           0.745           1.529                    0.756   \n",
       "\n",
       "   Freedom to make life choices  Generosity  Perceptions of corruption  \\\n",
       "0                         0.455       0.083                      0.027   \n",
       "1                         0.435       0.200                      0.127   \n",
       "2                         0.067       0.000                      0.034   \n",
       "3                         0.555       0.220                      0.167   \n",
       "4                         0.631       0.322                      0.240   \n",
       "\n",
       "         name    region                       sub-region  Terrorist_attacks  \n",
       "0        Peru  Americas  Latin America and the Caribbean          18.000000  \n",
       "1   Nicaragua  Americas  Latin America and the Caribbean         125.611111  \n",
       "2      Greece    Europe                  Southern Europe         112.000000  \n",
       "3       Qatar      Asia                     Western Asia          57.333333  \n",
       "4  Uzbekistan      Asia                     Central Asia         125.611111  "
      ]
     },
     "execution_count": 6,
     "metadata": {},
     "output_type": "execute_result"
    }
   ],
   "source": [
    "# Load data\n",
    "import pandas as pd\n",
    "X_train = pd.read_csv('world_happiness_competition_data/X_train.csv')\n",
    "X_test = pd.read_csv('world_happiness_competition_data/X_test.csv')\n",
    "y_train = pd.read_csv('world_happiness_competition_data/y_train.csv')\n",
    "y_train_labels = y_train.idxmax(axis=1)\n",
    "\n",
    "X_train.head()"
   ]
  },
  {
   "cell_type": "markdown",
   "metadata": {
    "id": "gEzPoXPj3V7u"
   },
   "source": [
    "##2.   Preprocess data using Sklearn Column Transformer/ Write and Save Preprocessor function\n"
   ]
  },
  {
   "cell_type": "code",
   "execution_count": 7,
   "metadata": {
    "id": "16QV9Y9TC3B3"
   },
   "outputs": [],
   "source": [
    "from sklearn.preprocessing import StandardScaler, OneHotEncoder\n",
    "from sklearn.compose import ColumnTransformer, make_column_transformer\n",
    "from sklearn.pipeline import Pipeline\n",
    "from sklearn.impute import SimpleImputer\n",
    "from sklearn.preprocessing import StandardScaler, OneHotEncoder\n",
    "\n",
    "# We create the preprocessing pipelines for both numeric and categorical data.\n",
    "\n",
    "numeric_features = X_train.drop(['Country or region', 'name', 'region', 'sub-region'], axis=1)\n",
    "numeric_features=numeric_features.columns.tolist()\n",
    "\n",
    "numeric_transformer = Pipeline(steps=[\n",
    "    ('imputer', SimpleImputer(strategy='median')),\n",
    "    ('scaler', StandardScaler())])\n",
    "\n",
    "categorical_features = ['region', 'sub-region']\n",
    "\n",
    "#Replacing missing values with Modal value and then one hot encoding.\n",
    "categorical_transformer = Pipeline(steps=[\n",
    "    ('imputer', SimpleImputer(strategy='most_frequent')),\n",
    "    ('onehot', OneHotEncoder(handle_unknown='ignore'))])\n",
    "\n",
    "# final preprocessor object set up with ColumnTransformer\n",
    "preprocessor = ColumnTransformer(\n",
    "    transformers=[\n",
    "        ('num', numeric_transformer, numeric_features),\n",
    "        ('cat', categorical_transformer, categorical_features)])\n",
    "\n",
    "#Fit your preprocessor object\n",
    "preprocess=preprocessor.fit(X_train) "
   ]
  },
  {
   "cell_type": "code",
   "execution_count": 8,
   "metadata": {
    "id": "S_PaNOG0SUIk"
   },
   "outputs": [],
   "source": [
    "# Write function to transform data with preprocessor\n",
    "\n",
    "def preprocessor(data):\n",
    "    data.drop(['Country or region', 'name'], axis=1)\n",
    "    preprocessed_data=preprocess.transform(data)\n",
    "    return preprocessed_data"
   ]
  },
  {
   "cell_type": "code",
   "execution_count": 9,
   "metadata": {
    "colab": {
     "base_uri": "https://localhost:8080/"
    },
    "id": "a1IPy9xvSWBp",
    "outputId": "80ea1ab9-98aa-457c-de98-92a526249816"
   },
   "outputs": [
    {
     "data": {
      "text/plain": [
       "(88, 26)"
      ]
     },
     "execution_count": 9,
     "metadata": {},
     "output_type": "execute_result"
    }
   ],
   "source": [
    "# check shape of X data after preprocessing it using our new function\n",
    "preprocessor(X_train).shape"
   ]
  },
  {
   "cell_type": "markdown",
   "metadata": {
    "id": "X52kECL43b-O"
   },
   "source": [
    "##3. Fit model on preprocessed data and save preprocessor function and model \n"
   ]
  },
  {
   "cell_type": "code",
   "execution_count": 10,
   "metadata": {
    "colab": {
     "base_uri": "https://localhost:8080/"
    },
    "id": "NCbBf8j9ClYl",
    "outputId": "ca8dbeea-e819-408c-ba8f-f0c961ea060b"
   },
   "outputs": [
    {
     "data": {
      "text/plain": [
       "0.8409090909090909"
      ]
     },
     "execution_count": 10,
     "metadata": {},
     "output_type": "execute_result"
    }
   ],
   "source": [
    "from sklearn.ensemble import RandomForestClassifier\n",
    "\n",
    "model = RandomForestClassifier(n_estimators=300, max_depth=3)\n",
    "model.fit(preprocessor(X_train), y_train_labels) # Fitting to the training set.\n",
    "model.score(preprocessor(X_train), y_train_labels) # Fit score, 0-1 scale."
   ]
  },
  {
   "cell_type": "markdown",
   "metadata": {
    "id": "zmJAnmO-5AcU"
   },
   "source": [
    "#### Save preprocessor function to local \"preprocessor.zip\" file"
   ]
  },
  {
   "cell_type": "code",
   "execution_count": null,
   "metadata": {
    "colab": {
     "base_uri": "https://localhost:8080/"
    },
    "id": "4VGacc0LDaMA",
    "outputId": "566cd915-9538-4c09-aff4-db7106a0ac4e"
   },
   "outputs": [],
   "source": [
    "import aimodelshare as ai\n",
    "ai.export_preprocessor(preprocessor,\"\") "
   ]
  },
  {
   "cell_type": "markdown",
   "metadata": {
    "id": "oOWBa8Cv5LdL"
   },
   "source": [
    "#### Save model to local \".onnx\" file"
   ]
  },
  {
   "cell_type": "code",
   "execution_count": null,
   "metadata": {
    "id": "pEhvnRiQDlY5"
   },
   "outputs": [],
   "source": [
    "# Save sklearn model to local ONNX file\n",
    "from aimodelshare.aimsonnx import model_to_onnx\n",
    "\n",
    "# Check how many preprocessed input features are there?\n",
    "from skl2onnx.common.data_types import FloatTensorType\n",
    "\n",
    "feature_count=preprocessor(X_test).shape[1] #Get count of preprocessed features\n",
    "initial_type = [('float_input', FloatTensorType([None, feature_count]))]  #Insert correct number of preprocessed features\n",
    "\n",
    "onnx_model = model_to_onnx(model, framework='sklearn',\n",
    "                          initial_types=initial_type,\n",
    "                          transfer_learning=False,\n",
    "                          deep_learning=False)\n",
    "\n",
    "with open(\"model.onnx\", \"wb\") as f:\n",
    "    f.write(onnx_model.SerializeToString())"
   ]
  },
  {
   "cell_type": "markdown",
   "metadata": {
    "id": "gHWkAzvX3m8O"
   },
   "source": [
    "## 4. Generate predictions from X_test data and submit model to competition\n"
   ]
  },
  {
   "cell_type": "code",
   "execution_count": null,
   "metadata": {
    "colab": {
     "base_uri": "https://localhost:8080/"
    },
    "id": "RtgkM02MDpkO",
    "outputId": "a0f634cf-130f-477f-8d96-a3f6313e3f93"
   },
   "outputs": [],
   "source": [
    "#Set credentials using modelshare.org username/password\n",
    "\n",
    "from aimodelshare.aws import set_credentials\n",
    "\n",
    "#This is the unique rest api that powers this World Happiness Classification Playground -- make sure to update the apiurl for new competition deployments\n",
    "apiurl=\"https://e2w6gh3id1.execute-api.us-east-2.amazonaws.com/prod/m\"\n",
    "\n",
    "set_credentials(apiurl=apiurl)"
   ]
  },
  {
   "cell_type": "code",
   "execution_count": null,
   "metadata": {
    "id": "fKNGSww8EGgi"
   },
   "outputs": [],
   "source": [
    "#Instantiate Competition\n",
    "import aimodelshare as ai\n",
    "mycompetition= ai.Competition(apiurl)"
   ]
  },
  {
   "cell_type": "code",
   "execution_count": null,
   "metadata": {
    "colab": {
     "base_uri": "https://localhost:8080/"
    },
    "id": "_Ql4wksyEUnP",
    "outputId": "c32c56ce-a6bf-4647-bfe8-58128c6af63b"
   },
   "outputs": [],
   "source": [
    "#Submit Model 1: \n",
    "\n",
    "#-- Generate predicted values (Model 1)\n",
    "prediction_labels = model.predict(preprocessor(X_test))\n",
    "\n",
    "# Submit Model 1 to Competition Leaderboard\n",
    "mycompetition.submit_model(model_filepath = \"model.onnx\",\n",
    "                                 preprocessor_filepath=\"preprocessor.zip\",\n",
    "                                 prediction_submission=prediction_labels)"
   ]
  },
  {
   "cell_type": "code",
   "execution_count": null,
   "metadata": {
    "colab": {
     "base_uri": "https://localhost:8080/",
     "height": 132
    },
    "id": "GN1zvAmNEq17",
    "outputId": "a638eac3-5280-4cfd-da27-471ad0545f82"
   },
   "outputs": [],
   "source": [
    "# Get leaderboard to explore current best model architectures\n",
    "\n",
    "# Get raw data in pandas data frame\n",
    "data = mycompetition.get_leaderboard()\n",
    "\n",
    "# Stylize leaderboard data\n",
    "mycompetition.stylize_leaderboard(data)"
   ]
  },
  {
   "cell_type": "markdown",
   "metadata": {
    "id": "bwNKs0wP4r5s"
   },
   "source": [
    "## 5. Repeat submission process to improve place on leaderboard\n"
   ]
  },
  {
   "cell_type": "code",
   "execution_count": null,
   "metadata": {
    "colab": {
     "base_uri": "https://localhost:8080/"
    },
    "id": "FgSs5PAtPCZH",
    "outputId": "8aa5b863-51d7-4aab-9431-29e471ca56a3"
   },
   "outputs": [],
   "source": [
    "# Train and submit model 2 using same preprocessor (note that you could save a new preprocessor, but we will use the same one for this example).\n",
    "from sklearn.ensemble import RandomForestClassifier\n",
    "\n",
    "model_2 = RandomForestClassifier(n_estimators=100, max_depth=5)\n",
    "model_2.fit(preprocessor(X_train), y_train_labels) # Fitting to the training set.\n",
    "model_2.score(preprocessor(X_train), y_train_labels) # Fit score, 0-1 scale."
   ]
  },
  {
   "cell_type": "code",
   "execution_count": null,
   "metadata": {
    "id": "aIdmSpYVPYAw"
   },
   "outputs": [],
   "source": [
    "# Save sklearn model to local ONNX file\n",
    "from aimodelshare.aimsonnx import model_to_onnx\n",
    "\n",
    "feature_count=preprocessor(X_test).shape[1] #Get count of preprocessed features\n",
    "initial_type = [('float_input', FloatTensorType([None, feature_count]))]  # Insert correct number of preprocessed features\n",
    "\n",
    "onnx_model = model_to_onnx(model_2, framework='sklearn',\n",
    "                          initial_types=initial_type,\n",
    "                          transfer_learning=False,\n",
    "                          deep_learning=False)\n",
    "\n",
    "with open(\"model2.onnx\", \"wb\") as f:\n",
    "    f.write(onnx_model.SerializeToString())"
   ]
  },
  {
   "cell_type": "code",
   "execution_count": null,
   "metadata": {
    "colab": {
     "base_uri": "https://localhost:8080/"
    },
    "id": "nszPPrfwPlUk",
    "outputId": "14add94d-937f-4eef-e4a3-a2ba16c4ddca"
   },
   "outputs": [],
   "source": [
    "#Submit Model 2: \n",
    "\n",
    "#-- Generate predicted y values (Model 2)\n",
    "prediction_labels = model_2.predict(preprocessor(X_test))\n",
    "\n",
    "# Submit Model 2 to Competition Leaderboard\n",
    "mycompetition.submit_model(model_filepath = \"model2.onnx\",\n",
    "                                 prediction_submission=prediction_labels,\n",
    "                                 preprocessor_filepath=\"preprocessor.zip\")"
   ]
  },
  {
   "cell_type": "code",
   "execution_count": null,
   "metadata": {
    "colab": {
     "base_uri": "https://localhost:8080/",
     "height": 522
    },
    "id": "qLl7yLpVEx26",
    "outputId": "c90ac9b2-f1a0-48fc-aa55-b2b3a5dbccf8"
   },
   "outputs": [],
   "source": [
    "# Compare two or more models\n",
    "data=mycompetition.compare_models([2,3], verbose=1)\n",
    "mycompetition.stylize_compare(data)"
   ]
  },
  {
   "cell_type": "code",
   "execution_count": null,
   "metadata": {
    "colab": {
     "base_uri": "https://localhost:8080/"
    },
    "id": "6Go4SF37Ex_Z",
    "outputId": "5bbd1817-8bbe-42e9-bf6c-db740f577050"
   },
   "outputs": [],
   "source": [
    "# Submit a third model using GridSearchCV\n",
    "\n",
    "from sklearn.ensemble import RandomForestClassifier\n",
    "from sklearn.model_selection import GridSearchCV\n",
    "import numpy as np\n",
    "\n",
    "param_grid = {'n_estimators': np.arange(100, 300, 500),'max_depth':[1, 3, 5]} #np.arange creates sequence of numbers for each k value\n",
    "\n",
    "gridmodel = GridSearchCV(RandomForestClassifier(), param_grid=param_grid, cv=10)\n",
    "\n",
    "#use meta model methods to fit score and predict model:\n",
    "gridmodel.fit(preprocessor(X_train), y_train_labels)\n",
    "\n",
    "#extract best score and parameter by calling objects \"best_score_\" and \"best_params_\"\n",
    "print(\"best mean cross-validation score: {:.3f}\".format(gridmodel.best_score_))\n",
    "print(\"best parameters: {}\".format(gridmodel.best_params_))\n"
   ]
  },
  {
   "cell_type": "code",
   "execution_count": null,
   "metadata": {
    "id": "HvLuIvOjHLH2"
   },
   "outputs": [],
   "source": [
    "# Save sklearn model to local ONNX file\n",
    "from aimodelshare.aimsonnx import model_to_onnx\n",
    "\n",
    "feature_count=preprocessor(X_test).shape[1] #Get count of preprocessed features\n",
    "initial_type = [('float_input', FloatTensorType([None, feature_count]))]  # Insert correct number of preprocessed features\n",
    "\n",
    "onnx_model = model_to_onnx(gridmodel, framework='sklearn',\n",
    "                          initial_types=initial_type,\n",
    "                          transfer_learning=False,\n",
    "                          deep_learning=False)\n",
    "\n",
    "with open(\"gridmodel.onnx\", \"wb\") as f:\n",
    "    f.write(onnx_model.SerializeToString())"
   ]
  },
  {
   "cell_type": "code",
   "execution_count": null,
   "metadata": {
    "colab": {
     "base_uri": "https://localhost:8080/"
    },
    "id": "sMidHABfHVN7",
    "outputId": "81826384-e03f-4c5e-dc96-911738ccc1ca"
   },
   "outputs": [],
   "source": [
    "#Submit Model 3: \n",
    "\n",
    "#-- Generate predicted values\n",
    "prediction_labels = gridmodel.predict(preprocessor(X_test))\n",
    "\n",
    "# Submit to Competition Leaderboard\n",
    "mycompetition.submit_model(model_filepath = \"gridmodel.onnx\",\n",
    "                                 preprocessor_filepath=\"preprocessor.zip\",\n",
    "                                 prediction_submission=prediction_labels)"
   ]
  },
  {
   "cell_type": "code",
   "execution_count": null,
   "metadata": {
    "colab": {
     "base_uri": "https://localhost:8080/",
     "height": 195
    },
    "id": "hn-Tp-zpJVGT",
    "outputId": "507d52c6-5543-4997-d3cf-9c882e58ff5a"
   },
   "outputs": [],
   "source": [
    "# Get leaderboard\n",
    "\n",
    "data = mycompetition.get_leaderboard()\n",
    "mycompetition.stylize_leaderboard(data)"
   ]
  },
  {
   "cell_type": "code",
   "execution_count": null,
   "metadata": {
    "colab": {
     "base_uri": "https://localhost:8080/",
     "height": 522
    },
    "id": "MKvPKyb7hT0h",
    "outputId": "f7aef2be-dd96-4e29-dd98-8884c393aedc"
   },
   "outputs": [],
   "source": [
    "# Compare two or more models\n",
    "data=mycompetition.compare_models([3,4], verbose=1)\n",
    "mycompetition.stylize_compare(data)"
   ]
  },
  {
   "cell_type": "code",
   "execution_count": null,
   "metadata": {
    "colab": {
     "base_uri": "https://localhost:8080/"
    },
    "id": "tukB40NshcaB",
    "outputId": "4f89cd25-d6bd-4924-e698-9c8580231d8f"
   },
   "outputs": [],
   "source": [
    "# Here are several classic ML architectures you can consider choosing from to experiment with next:\n",
    "from sklearn.neighbors import KNeighborsClassifier\n",
    "from sklearn.svm import SVC\n",
    "from sklearn.ensemble import RandomForestClassifier\n",
    "from sklearn.ensemble import BaggingClassifier\n",
    "from sklearn.ensemble import GradientBoostingClassifier\n",
    "\n",
    "#Example code to fit model:\n",
    "model = GradientBoostingClassifier(n_estimators=50, learning_rate=1.0,\n",
    "    max_depth=1, random_state=0).fit(preprocessor(X_train), y_train_labels)\n",
    "model.score(preprocessor(X_train), y_train_labels)\n",
    "\n",
    "# Save sklearn model to local ONNX file\n",
    "from aimodelshare.aimsonnx import model_to_onnx\n",
    "\n",
    "feature_count=preprocessor(X_test).shape[1] #Get count of preprocessed features\n",
    "initial_type = [('float_input', FloatTensorType([None, feature_count]))]  # Insert correct number of preprocessed features\n",
    "\n",
    "onnx_model = model_to_onnx(model, framework='sklearn',\n",
    "                          initial_types=initial_type,\n",
    "                          transfer_learning=False,\n",
    "                          deep_learning=False)\n",
    "\n",
    "with open(\"model.onnx\", \"wb\") as f:\n",
    "    f.write(onnx_model.SerializeToString())\n",
    "\n",
    "#-- Generate predicted values \n",
    "prediction_labels = model.predict(preprocessor(X_test))\n",
    "\n",
    "# Submit model to Competition Leaderboard\n",
    "mycompetition.submit_model(model_filepath = \"model.onnx\",\n",
    "                                 preprocessor_filepath=\"preprocessor.zip\",\n",
    "                                 prediction_submission=prediction_labels)\n"
   ]
  },
  {
   "cell_type": "code",
   "execution_count": null,
   "metadata": {
    "id": "Me2pkDUsuEBH"
   },
   "outputs": [],
   "source": [
    "# Or you can experiment with deep learning models: \n",
    "import keras\n",
    "from keras.models import Sequential\n",
    "from keras.layers import Dense, Activation\n",
    "\n",
    "feature_count=preprocessor(X_train).shape[1] #count features in input data\n",
    "\n",
    "keras_model = Sequential()\n",
    "keras_model.add(Dense(128, input_dim=feature_count, activation='relu'))\n",
    "keras_model.add(Dense(64, activation='relu'))\n",
    "keras_model.add(Dense(64, activation='relu'))\n",
    "keras_model.add(Dense(32, activation='relu'))\n",
    "\n",
    "keras_model.add(Dense(5, activation='softmax')) \n",
    "                                            \n",
    "# Compile model\n",
    "keras_model.compile(loss='categorical_crossentropy', optimizer='sgd', metrics=['accuracy'])\n",
    "\n",
    "# Fitting the NN to the Training set\n",
    "keras_model.fit(preprocessor(X_train), y_train, ## Note that keras models require a one-hot-encoded y_train object\n",
    "               batch_size = 20, \n",
    "               epochs = 300, validation_split=0.25)  "
   ]
  },
  {
   "cell_type": "code",
   "execution_count": null,
   "metadata": {
    "id": "XTJJ-T1luvXK"
   },
   "outputs": [],
   "source": [
    "# Save keras model to ONNX file \n",
    "\n",
    "from aimodelshare.aimsonnx import model_to_onnx\n",
    "\n",
    "onnx_model = model_to_onnx(keras_model, framework='keras',\n",
    "                          transfer_learning=False,\n",
    "                          deep_learning=True)\n",
    "\n",
    "with open(\"model.onnx\", \"wb\") as f:\n",
    "    f.write(onnx_model.SerializeToString())"
   ]
  },
  {
   "cell_type": "code",
   "execution_count": null,
   "metadata": {
    "colab": {
     "base_uri": "https://localhost:8080/"
    },
    "id": "M_uMRKnGu-wC",
    "outputId": "6b2aff5e-9875-47db-d133-4bb235795598"
   },
   "outputs": [],
   "source": [
    "# Submit keras model: \n",
    "\n",
    "#-- Generate predicted y values\n",
    "#Note: Keras predict returns the predicted column index location for classification models\n",
    "prediction_column_index=keras_model.predict(preprocessor(X_test)).argmax(axis=1)\n",
    "\n",
    "# extract correct prediction labels \n",
    "prediction_labels = [y_train.columns[i] for i in prediction_column_index]\n",
    "\n",
    "# Submit Model 1 to Competition Leaderboard\n",
    "mycompetition.submit_model(model_filepath = \"model.onnx\",\n",
    "                                 preprocessor_filepath=\"preprocessor.zip\",\n",
    "                                 prediction_submission=prediction_labels)"
   ]
  },
  {
   "cell_type": "code",
   "execution_count": null,
   "metadata": {
    "colab": {
     "base_uri": "https://localhost:8080/",
     "height": 366
    },
    "id": "iJx55KPXu4DI",
    "outputId": "2dda44f4-b649-4cbb-ddaa-5a7d90a6c055"
   },
   "outputs": [],
   "source": [
    "# Check leaderboard \n",
    "\n",
    "data = mycompetition.get_leaderboard()\n",
    "mycompetition.stylize_leaderboard(data)"
   ]
  },
  {
   "cell_type": "code",
   "execution_count": null,
   "metadata": {},
   "outputs": [],
   "source": [
    "#Example code to fit model:\n",
    "model = GradientBoostingClassifier(n_estimators=50, learning_rate=1.0,\n",
    "    max_depth=1, random_state=0).fit(preprocessor(X_train), y_train_labels)\n",
    "model.score(preprocessor(X_train), y_train_labels)\n",
    "\n",
    "# Save sklearn model to local ONNX file\n",
    "from aimodelshare.aimsonnx import model_to_onnx\n",
    "\n",
    "feature_count=preprocessor(X_test).shape[1] #Get count of preprocessed features\n",
    "initial_type = [('float_input', FloatTensorType([None, feature_count]))]  # Insert correct number of preprocessed features\n",
    "\n",
    "onnx_model = model_to_onnx(model, framework='sklearn',\n",
    "                          initial_types=initial_type,\n",
    "                          transfer_learning=False,\n",
    "                          deep_learning=False)\n",
    "\n",
    "with open(\"model.onnx\", \"wb\") as f:\n",
    "    f.write(onnx_model.SerializeToString())\n",
    "\n",
    "#-- Generate predicted values \n",
    "prediction_labels = model.predict(preprocessor(X_test))\n",
    "\n",
    "# Submit model to Competition Leaderboard\n",
    "mycompetition.submit_model(model_filepath = \"model.onnx\",\n",
    "                                 preprocessor_filepath=\"preprocessor.zip\",\n",
    "                                 prediction_submission=prediction_labels,\n",
    "                                 custom_metadata={\"team\":\"1\"})\n"
   ]
  }
 ],
 "metadata": {
  "colab": {
   "name": "[World Happiness] Model Submission Guide.ipynb",
   "provenance": []
  },
  "kernelspec": {
   "display_name": "Python 3 (ipykernel)",
   "language": "python",
   "name": "python3"
  },
  "language_info": {
   "codemirror_mode": {
    "name": "ipython",
    "version": 3
   },
   "file_extension": ".py",
   "mimetype": "text/x-python",
   "name": "python",
   "nbconvert_exporter": "python",
   "pygments_lexer": "ipython3",
   "version": "3.9.13"
  }
 },
 "nbformat": 4,
 "nbformat_minor": 1
}
